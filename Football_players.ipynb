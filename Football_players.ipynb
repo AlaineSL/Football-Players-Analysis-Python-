{
 "cells": [
  {
   "cell_type": "markdown",
   "id": "2e31ce93-ab12-4b52-ac4f-52485f705efa",
   "metadata": {},
   "source": [
    "                                    ANALYZING FOOTBALL PLAYERS DATASET"
   ]
  },
  {
   "cell_type": "markdown",
   "id": "b15d3615-e0ae-4d8d-b975-2cde613f11d5",
   "metadata": {},
   "source": [
    "First steps: "
   ]
  },
  {
   "cell_type": "code",
   "execution_count": null,
   "id": "43529261-1fee-4a77-8137-96374c74e10f",
   "metadata": {},
   "outputs": [],
   "source": [
    "import numpy as np\n",
    "import pandas as pd\n",
    "import matplotlib.pyplot as plt\n",
    "import seaborn as sns\n",
    "\n",
    "import warnings\n",
    "warnings.filterwarnings('ignore')\n",
    "\n",
    "data = pd.read_csv('C:/Users/alain/Downloads/football_data/fifa_players.csv')\n",
    "\n",
    "print(data.shape)\n",
    "print(data.index)\n",
    "print(data.columns)\n",
    "print('--------' * 8)\n",
    "print(data.info())\n",
    "print('--------' * 8)\n",
    "print(data.isna().sum()) # NaN values\n",
    "print('--------' * 8)\n",
    "print(data.describe())\n",
    "data.head()"
   ]
  },
  {
   "cell_type": "markdown",
   "id": "94a15342-a025-4c3f-8673-fc0acd8f3af3",
   "metadata": {},
   "source": [
    "Data Cleaning"
   ]
  },
  {
   "cell_type": "code",
   "execution_count": null,
   "id": "2ec3e4c3-f897-4bbd-bf29-e0d12067d39b",
   "metadata": {},
   "outputs": [],
   "source": [
    "players = data.copy() \n",
    "players = players.dropna(axis = 1) # Delete all columns with NaN values\n",
    "players.drop(['full_name', 'birth_date', 'international_reputation(1-5)', 'weak_foot(1-5)',\n",
    "       'skill_moves(1-5)', 'body_type', 'aggression'], axis = 1, inplace = True) #Drop non-important columns\n",
    "players.set_index('name', inplace = True) #Set 'name' column as the Index\n",
    "print(players.shape)\n",
    "players.info()"
   ]
  },
  {
   "cell_type": "code",
   "execution_count": null,
   "id": "6dce6c5c-52f3-4495-8de6-ffb0130db4f5",
   "metadata": {},
   "outputs": [],
   "source": [
    "#players.columns"
   ]
  },
  {
   "cell_type": "code",
   "execution_count": null,
   "id": "6fbc115e-1f21-4026-aaef-84c43d056da6",
   "metadata": {},
   "outputs": [],
   "source": [
    "weights_attack = [0.2, 0.15, 0.15, 0.2, 0.2, 0.1] #Create 2 new columns (attacking_ability and defensive_ability) with the skills and the weight of each skill\n",
    "skills_attack = players[['finishing', 'heading_accuracy', 'volleys', 'dribbling', 'shot_power', 'long_shots']]\n",
    "weights_defense = [0.2, 0.2, 0.25, 0.25, 0.1]  \n",
    "skills_defense = players[['interceptions', 'marking', 'standing_tackle', 'sliding_tackle', 'heading_accuracy']]\n",
    "players['attacking_ability'] = (skills_attack * weights_attack).sum(axis=1)\n",
    "players['defensive_ability'] = (skills_defense * weights_defense).sum(axis=1)\n",
    "players.head()"
   ]
  },
  {
   "cell_type": "markdown",
   "id": "167079c9-b724-4016-afc4-1da5ca60b5b9",
   "metadata": {},
   "source": [
    "CORRELATION BETWEEN AGE AND DIFFERENT ABILITIES"
   ]
  },
  {
   "cell_type": "code",
   "execution_count": null,
   "id": "00886c24-09ab-4cf5-928b-028f3491556d",
   "metadata": {},
   "outputs": [],
   "source": [
    "main_column = 'age'\n",
    "other_columns = ['volleys', 'sprint_speed', 'stamina', 'acceleration', 'dribbling', 'agility', 'reactions', 'balance', 'jumping', 'interceptions', 'composure', 'vision']\n",
    "\n",
    "selected_columns = [main_column] + other_columns  # Combine lists\n",
    "subset = players[selected_columns]\n",
    "correlation_matrix = subset.corr()\n",
    "mask = np.triu(np.ones_like(correlation_matrix, dtype=bool))\n",
    "\n",
    "plt.figure(figsize=(8, 5))\n",
    "sns.heatmap(correlation_matrix, mask=mask, annot=True, cmap='coolwarm', cbar=True, square=True, cbar_kws={'shrink': .8})\n",
    "plt.xticks(rotation=45, ha='right')\n",
    "plt.title('Age vs Abilities')\n",
    "plt.tight_layout()\n",
    "plt.savefig('age_vs_abilities')\n",
    "plt.show()"
   ]
  },
  {
   "cell_type": "markdown",
   "id": "16628c26-a272-4317-8e53-cc8d95f613e4",
   "metadata": {},
   "source": [
    "CORRELATION BETWEEN DRIBBLING AND BALL CONTROL"
   ]
  },
  {
   "cell_type": "code",
   "execution_count": null,
   "id": "4d2c3c40-2189-4e4f-b903-bf90b738e41f",
   "metadata": {},
   "outputs": [],
   "source": [
    "# Create a figure with 2 subplots side by side\n",
    "fig, (ax1, ax2) = plt.subplots(1, 2, figsize=(12, 4))  # Adjust figsize to fit your screen or preferences\n",
    "\n",
    "# Create the heatmap on the first subplot\n",
    "skills_data = players[['dribbling', 'ball_control']] #Correlation between dribbling and ball_control (skills-data)\n",
    "correlation_matrix = skills_data.corr()\n",
    "sns.heatmap(correlation_matrix, annot=True, cmap='vlag', cbar=True, ax=ax1)\n",
    "ax1.set_title('Dribbling vs. Ball Control')\n",
    "ax1.set_yticklabels(ax1.get_yticklabels(), rotation=25)  # Rotate y-axis labels on heatmap\n",
    "\n",
    "# Create the scatter plot on the second subplot\n",
    "sns.scatterplot(data=players, x='dribbling', y='ball_control', ax=ax2)\n",
    "ax2.set_title('Dribbling vs. Ball Control')\n",
    "\n",
    "\n",
    "plt.tight_layout()  # Adjusts plot so that everything fits without overlap\n",
    "plt.savefig('dribling_ball_control')\n",
    "plt.show()"
   ]
  },
  {
   "cell_type": "markdown",
   "id": "c30e2fff-1535-4eeb-b120-251c75febef8",
   "metadata": {},
   "source": [
    "CORRELATION BETWEEN HEIGHT, STRENGHT AND HEADING ACCURACY"
   ]
  },
  {
   "cell_type": "code",
   "execution_count": null,
   "id": "912d8be7-3a0a-41e8-a64e-e3fefe7a2efa",
   "metadata": {},
   "outputs": [],
   "source": [
    "correlation_matrix = players[['height_cm', 'strength', 'heading_accuracy']].corr()\n",
    "plt.figure(figsize=(6,4))\n",
    "sns.heatmap(correlation_matrix, annot=True, cmap='Greens', fmt=\".2f\")\n",
    "plt.title('Correlation Matrix')\n",
    "plt.yticks(rotation=45)\n",
    "plt.savefig('height_strength_heading_accuracy')\n",
    "plt.show()\n",
    "\n",
    "fig, (ax1, ax2) = plt.subplots(1, 2, figsize=(12, 6))\n",
    "# Relationship between height and heading accuracy\n",
    "sns.scatterplot(data=players, x='height_cm', y='heading_accuracy', ax=ax1)\n",
    "ax1.set_title('Height vs. Heading Accuracy')\n",
    "\n",
    "\n",
    "# Relationship between strength and heading accuracy\n",
    "sns.scatterplot(data=players, x='strength', y='heading_accuracy', ax=ax2)\n",
    "ax2.set_title('Strength vs. Heading Accuracy')\n",
    "\n",
    "plt.tight_layout()\n",
    "plt.savefig('strength_height_head_accuracy')\n",
    "plt.show()"
   ]
  },
  {
   "cell_type": "code",
   "execution_count": null,
   "id": "991b8344-0d64-43a0-86d6-5d7a13fe5832",
   "metadata": {},
   "outputs": [],
   "source": [
    "#players.columns"
   ]
  },
  {
   "cell_type": "markdown",
   "id": "3c82ef75-ce9a-4d20-aa18-91e5bdb571e7",
   "metadata": {},
   "source": [
    "TOP 10 ATTACKING PLAYERS"
   ]
  },
  {
   "cell_type": "code",
   "execution_count": null,
   "id": "b725740f-61e0-4da2-8fe8-e2e2c06303b3",
   "metadata": {},
   "outputs": [],
   "source": [
    "top_attackers = players.sort_values(by='attacking_ability', ascending=False).head(10)\n",
    "fig, ax = plt.subplots(figsize=(8,4))\n",
    "ax.bar(top_attackers.index, top_attackers['attacking_ability'], color='Orange')\n",
    "ax.set_title('Top 10 Attackers')\n",
    "ax.set_xlabel('Player')\n",
    "ax.set_ylabel('Attacking ability')\n",
    "plt.xticks(rotation=45, ha='right')\n",
    "plt.tight_layout()\n",
    "plt.savefig('top_attackers')\n",
    "plt.show()"
   ]
  },
  {
   "cell_type": "code",
   "execution_count": null,
   "id": "03445e5a-955c-41cd-9b43-0fc012e6c615",
   "metadata": {},
   "outputs": [],
   "source": [
    "# Setting up the plot with the correct figure size\n",
    "fig, ax = plt.subplots(figsize=(12,6))\n",
    "\n",
    "# Creating a bar chart for 'attacking_ability'\n",
    "bar1 = ax.bar(top_attackers.index, top_attackers['attacking_ability'], color='Orange', label='Attacking Ability')\n",
    "ax.bar_label(bar1, padding=-40)\n",
    "# Stacking 'defensive_ability' on top of 'attacking_ability'\n",
    "bar2 = ax.bar(top_attackers.index, top_attackers['defensive_ability'], bottom=top_attackers['attacking_ability'], color='Blue', label='Defensive Ability')\n",
    "ax.bar_label(bar2, padding=-20)\n",
    "# Adding titles and labels\n",
    "ax.set_title('Top 10 Attackers: Combined Abilities')\n",
    "ax.set_xlabel('Player')\n",
    "ax.set_ylabel('Total Ability Score')\n",
    "\n",
    "# Setting the x-ticks to be directly under each bar\n",
    "ax.set_xticks(range(len(top_attackers.index)))  # Use range to match the number of bars\n",
    "ax.set_xticklabels(top_attackers.index, rotation=45, ha='right')\n",
    "\n",
    "# Adding a legend to the plot to identify the colors\n",
    "ax.legend()\n",
    "\n",
    "# Showing the plot\n",
    "plt.tight_layout()\n",
    "plt.savefig('top_attack_combined')\n",
    "plt.show()"
   ]
  },
  {
   "cell_type": "markdown",
   "id": "90d3a7fc-a254-4ac1-a429-a7040975356d",
   "metadata": {},
   "source": [
    "TOP 10 DEFENDERS"
   ]
  },
  {
   "cell_type": "code",
   "execution_count": null,
   "id": "f7e5c7d7-d880-4a5a-8d22-61195401a150",
   "metadata": {},
   "outputs": [],
   "source": [
    "top_defenders = players.sort_values(by='defensive_ability', ascending=False).head(10)\n",
    "fig, ax = plt.subplots(figsize=(8,4))\n",
    "bar = ax.bar(top_defenders.index, top_defenders['defensive_ability'], color='Green')\n",
    "ax.bar_label(bar, padding=-40)\n",
    "ax.set_title('Top 10 Defenders')\n",
    "ax.set_xlabel('Player')\n",
    "ax.set_ylabel('Defensive ability')\n",
    "plt.xticks(rotation=45, ha='right')\n",
    "plt.tight_layout()\n",
    "plt.savefig('top_defenders')\n",
    "plt.show()"
   ]
  },
  {
   "cell_type": "markdown",
   "id": "b23d7a73-0310-4a71-9544-7d91b1dff5d7",
   "metadata": {},
   "source": [
    "AGE COMPARISON BETWEEN ATTACKERS AND DEFENDERS"
   ]
  },
  {
   "cell_type": "code",
   "execution_count": null,
   "id": "3f49028f-19f8-455d-8c89-33f037f4b03b",
   "metadata": {},
   "outputs": [],
   "source": [
    "print(top_attackers['age'].mean())\n",
    "top_defenders['age'].mean()"
   ]
  },
  {
   "cell_type": "markdown",
   "id": "2a67a211-8606-49fe-8077-c7c553c1e5ef",
   "metadata": {},
   "source": [
    "TOP 10 GOALKEEPERS"
   ]
  },
  {
   "cell_type": "code",
   "execution_count": null,
   "id": "63fe396c-736a-4acc-b26b-9772dd22037c",
   "metadata": {},
   "outputs": [],
   "source": [
    "goalkeeper = players[players['positions']=='GK']\n",
    "top_gk = goalkeeper.sort_values(by='overall_rating', ascending=False).head(10)\n",
    "fig, ax = plt.subplots(figsize=(8,4))\n",
    "bar = ax.bar(top_gk.index, top_gk['overall_rating'], color='Purple')\n",
    "ax.bar_label(bar, padding=-40)\n",
    "ax.set_title('Top 10 Goalkeepers')\n",
    "ax.set_xlabel('Player')\n",
    "ax.set_ylabel('Overall rating')\n",
    "plt.xticks(rotation=45, ha='right')\n",
    "plt.tight_layout()\n",
    "plt.savefig('top_gk')\n",
    "plt.show()"
   ]
  },
  {
   "cell_type": "markdown",
   "id": "c873f6f0-851b-4727-a4c9-ee9ad2823f5e",
   "metadata": {},
   "source": [
    "TOP SPRINT SPEED AND ACCELERATION"
   ]
  },
  {
   "cell_type": "code",
   "execution_count": null,
   "id": "aeabef06-0a80-48c4-afb5-79d61171f657",
   "metadata": {},
   "outputs": [],
   "source": [
    "top_speed = players.sort_values(by='sprint_speed', ascending=False).head(15)\n",
    "top_accel = players.sort_values(by='acceleration', ascending=False).head(15)\n",
    "\n",
    "fig, ax = plt.subplots(figsize=(10,4))\n",
    "bar = ax.bar(top_speed.index, top_speed['sprint_speed'], color='Green')\n",
    "ax.bar_label(bar, padding=-40)\n",
    "ax.set_title('Top 15 Fastest Sprinters')\n",
    "ax.set_xlabel('Player')\n",
    "ax.set_ylabel('Sprint speed')\n",
    "plt.xticks(rotation=45, ha='right')\n",
    "plt.tight_layout()\n",
    "plt.savefig('top_speed')\n",
    "\n",
    "fig, ax = plt.subplots(figsize=(10,4))\n",
    "bars = ax.bar(top_accel.index, top_accel['acceleration'], color='Purple')\n",
    "ax.bar_label(bars, padding=-40)\n",
    "ax.set_title('Top 15 Fastest Accelerations')\n",
    "ax.set_xlabel('Player')\n",
    "ax.set_ylabel('Acceleration')\n",
    "plt.xticks(rotation=45, ha='right')\n",
    "\n",
    "plt.tight_layout()\n",
    "plt.savefig('top_accel')\n",
    "plt.show()"
   ]
  },
  {
   "cell_type": "markdown",
   "id": "0893ff1a-1b56-421e-82bb-a5c1246dd3e2",
   "metadata": {},
   "source": [
    "OVERALL RATING OF LEFT/RIGHT-FOOTED PLAYERS BY NATIONALITY"
   ]
  },
  {
   "cell_type": "code",
   "execution_count": null,
   "id": "6055ef0d-76a8-4a26-b054-8434e2cd6f5e",
   "metadata": {},
   "outputs": [],
   "source": [
    "argentina = players[players['nationality']=='Argentina']\n",
    "arg_left = argentina[argentina['preferred_foot']=='Left']\n",
    "arg_right = argentina[argentina['preferred_foot']=='Right']\n",
    "\n",
    "spain = players[players['nationality']=='Spain']\n",
    "spain_left = spain[spain['preferred_foot']=='Left']\n",
    "spain_right = spain[spain['preferred_foot']=='Right']\n",
    "\n",
    "france = players[players['nationality']=='France']\n",
    "france_left = france[france['preferred_foot']=='Left']\n",
    "france_right = france[france['preferred_foot']=='Right']\n",
    "\n",
    "portugal = players[players['nationality']=='Portugal']\n",
    "portugal_left = portugal[portugal['preferred_foot']=='Left']\n",
    "portugal_right = portugal[portugal['preferred_foot']=='Right']\n",
    "\n",
    "brazil = players[players['nationality']=='Brazil']\n",
    "brazil_left = brazil[brazil['preferred_foot']=='Left']\n",
    "brazil_right = brazil[brazil['preferred_foot']=='Right']\n",
    "\n",
    "england = players[players['nationality']=='England']\n",
    "england_left = england[england['preferred_foot']=='Left']\n",
    "england_right = england[england['preferred_foot']=='Right']\n",
    "\n",
    "left_footed_players = pd.concat([\n",
    "    arg_left,\n",
    "    spain_left,\n",
    "    france_left,\n",
    "    portugal_left,\n",
    "    brazil_left,\n",
    "    england_left\n",
    "], axis=0)\n",
    "right_footed_players = pd.concat([\n",
    "    arg_right,\n",
    "    spain_right,\n",
    "    france_right,\n",
    "    portugal_right,\n",
    "    brazil_right,\n",
    "    england_right\n",
    "], axis=0)"
   ]
  },
  {
   "cell_type": "code",
   "execution_count": null,
   "id": "47b77598-2ab8-4fd2-ab9d-c97d7de5d517",
   "metadata": {},
   "outputs": [],
   "source": [
    "plt.figure(figsize=(10, 6)) \n",
    "sns.boxplot(x='nationality', y='overall_rating', data=left_footed_players)\n",
    "plt.title('Overall Rating of Left-Footed Players by Nationality')\n",
    "plt.xlabel('Nationality')\n",
    "plt.ylabel('Overall Rating')\n",
    "plt.xticks(rotation=45)\n",
    "plt.tight_layout()\n",
    "plt.savefig('overall_rating_left_foot')\n",
    "plt.show()\n",
    "\n",
    "plt.figure(figsize=(10, 6)) \n",
    "sns.boxplot(x='nationality', y='overall_rating', data=right_footed_players)\n",
    "plt.title('Overall Rating of Right-Footed Players by Nationality')\n",
    "plt.xlabel('Nationality')\n",
    "plt.ylabel('Overall Rating')\n",
    "plt.xticks(rotation=45)  \n",
    "plt.tight_layout()\n",
    "plt.savefig('overall_rating_right_foot')\n",
    "plt.show()"
   ]
  }
 ],
 "metadata": {
  "kernelspec": {
   "display_name": "Python 3 (ipykernel)",
   "language": "python",
   "name": "python3"
  },
  "language_info": {
   "codemirror_mode": {
    "name": "ipython",
    "version": 3
   },
   "file_extension": ".py",
   "mimetype": "text/x-python",
   "name": "python",
   "nbconvert_exporter": "python",
   "pygments_lexer": "ipython3",
   "version": "3.11.7"
  }
 },
 "nbformat": 4,
 "nbformat_minor": 5
}
